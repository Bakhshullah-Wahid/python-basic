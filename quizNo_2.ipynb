{
  "nbformat": 4,
  "nbformat_minor": 0,
  "metadata": {
    "colab": {
      "provenance": [],
      "authorship_tag": "ABX9TyN1lg33NpebI+m/IErbbUj8",
      "include_colab_link": true
    },
    "kernelspec": {
      "name": "python3",
      "display_name": "Python 3"
    },
    "language_info": {
      "name": "python"
    }
  },
  "cells": [
    {
      "cell_type": "markdown",
      "metadata": {
        "id": "view-in-github",
        "colab_type": "text"
      },
      "source": [
        "<a href=\"https://colab.research.google.com/github/Bakhshullah-Wahid/python-basic/blob/main/quizNo_2.ipynb\" target=\"_parent\"><img src=\"https://colab.research.google.com/assets/colab-badge.svg\" alt=\"Open In Colab\"/></a>"
      ]
    },
    {
      "cell_type": "code",
      "execution_count": 6,
      "metadata": {
        "colab": {
          "base_uri": "https://localhost:8080/"
        },
        "id": "AFlVd280LlcG",
        "outputId": "9ff6945f-06c8-4d71-8834-408212875b56"
      },
      "outputs": [
        {
          "output_type": "stream",
          "name": "stdout",
          "text": [
            "enter Student name: sara\n",
            "enter age: 34\n",
            "is he/she enrolled? yes/no: yes\n",
            "is gender he/she: he\n",
            "enter the student the gpa: 3\n",
            "\n",
            "sara 34 yes he 3.0\n",
            "The student name is sara\n",
            "sara is  34 years old\n",
            "yes   he is enrolled\n",
            "he has acheived  3.0  in the last semester\n"
          ]
        }
      ],
      "source": [
        "class Student():\n",
        "  name = None\n",
        "  age = None\n",
        "  isEnrolled = None\n",
        "  isGender = None\n",
        "  gpa = None\n",
        "\n",
        "  def __init__(self):\n",
        "    self.name = str(input(\"enter Student name: \"))\n",
        "    self.age = int(input(\"enter age: \"))\n",
        "    self.isEnrolled = str(input(\"is he/she enrolled? yes/no: \"))\n",
        "    self.isGender = str(input(\"is gender he/she: \"))\n",
        "    self.gpa = float(input(\"enter the student the gpa: \"))\n",
        "\n",
        "  def printTheValue(self):\n",
        "    print('')\n",
        "    print(self.name ,self.age , self.isEnrolled , self.isGender , self.gpa)\n",
        "    print('The student name is '+ self.name)\n",
        "    if(self.age>=18):\n",
        "      print(self.name + ' is ',self.age ,'years old')\n",
        "    if(self.isEnrolled=='yes'):\n",
        "      print(self.isEnrolled, ' ', self.isGender , 'is enrolled')\n",
        "    else:\n",
        "       print(self.is_enrolled, '', self.isGender , 'is not enrolled')\n",
        "    print(self.isGender+' has acheived ', self.gpa , ' in the last semester')\n",
        "\n",
        "\n",
        "studentRecords = Student()\n",
        "studentRecords.printTheValue()\n"
      ]
    }
  ]
}